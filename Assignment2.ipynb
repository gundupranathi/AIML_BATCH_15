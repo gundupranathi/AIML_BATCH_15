{
  "nbformat": 4,
  "nbformat_minor": 0,
  "metadata": {
    "colab": {
      "provenance": [],
      "authorship_tag": "ABX9TyN0/TESVCBeiuP51WPs/KdX",
      "include_colab_link": true
    },
    "kernelspec": {
      "name": "python3",
      "display_name": "Python 3"
    },
    "language_info": {
      "name": "python"
    }
  },
  "cells": [
    {
      "cell_type": "markdown",
      "metadata": {
        "id": "view-in-github",
        "colab_type": "text"
      },
      "source": [
        "<a href=\"https://colab.research.google.com/github/gundupranathi/AIML_BATCH_15/blob/main/Assignment2.ipynb\" target=\"_parent\"><img src=\"https://colab.research.google.com/assets/colab-badge.svg\" alt=\"Open In Colab\"/></a>"
      ]
    },
    {
      "cell_type": "code",
      "execution_count": null,
      "metadata": {
        "id": "W75KWqlMhth5"
      },
      "outputs": [],
      "source": []
    },
    {
      "cell_type": "markdown",
      "source": [
        "##implement Breadth First,depth First and A * Search Algorithms using Queue"
      ],
      "metadata": {
        "id": "2ejuddQpiCPW"
      }
    },
    {
      "cell_type": "code",
      "source": [
        "class Graph:\n",
        "  def __init__(self,V):\n",
        "    self.V=V\n",
        "    self.adj =[[] for i in range(V)]\n",
        "  def addEdge(self,v,w):\n",
        "      self.adj[v].append(w)\n",
        "  def DFS(self,s):\n",
        "      visited =[False for i in range(self.V)]\n",
        "      stack =[]\n",
        "      stack.append(s)\n",
        "      while(len(stack)):\n",
        "        s = stack[-1]\n",
        "        stack.pop()\n",
        "        if(not visited[s]):\n",
        "          print(s,end=' ')\n",
        "          visited[s]=True\n",
        "        for node in self.adj[s]:\n",
        "           if(not visited[node]):\n",
        "              stack.append(node)\n",
        "g= Graph(5);\n",
        "g.addEdge(1, 0);\n",
        "g.addEdge(0, 2);\n",
        "g.addEdge(2, 1);\n",
        "g.addEdge(0, 3);\n",
        "g.addEdge(1, 4);\n",
        "print(\"Following is Depth First Transveral\")\n",
        "g.DFS(0)\n",
        "\n"
      ],
      "metadata": {
        "colab": {
          "base_uri": "https://localhost:8080/"
        },
        "id": "qkaFF7xhwp78",
        "outputId": "d1175f77-941c-4ab8-e1f4-87efd71c55b5"
      },
      "execution_count": 5,
      "outputs": [
        {
          "output_type": "stream",
          "name": "stdout",
          "text": [
            "Following is Depth First Transveral\n",
            "0 3 2 1 4 "
          ]
        }
      ]
    },
    {
      "cell_type": "code",
      "source": [
        "import collections\n",
        "def bfs(graph,root):\n",
        " visited,queue=set(), collections.deque([root])\n",
        " visited.add(root)\n",
        " while queue:\n",
        "  vertex=queue.popleft()\n",
        "  print(str(vertex) + \" \",end=\"\")\n",
        "  for neighbour in graph[vertex]:\n",
        "    if neighbour not in visited:\n",
        "      visited.add(neighbour)\n",
        "      queue.append(neighbour)\n",
        "     # if__name__=='__main__':\n",
        "      #  graph={0:[1 ,2],1: [2] ,2:}\n",
        "if __name__=='__main__':\n",
        "  graph={0: [1 ,2],1: [2], 2: [3], 3: [1,2]}\n",
        "  print(\"Following is Breadth First Tranversal\")\n",
        "  bfs(graph,0)"
      ],
      "metadata": {
        "colab": {
          "base_uri": "https://localhost:8080/"
        },
        "id": "uboFwt77jhkd",
        "outputId": "9db283c7-cea6-48b8-db5c-acc130c15914"
      },
      "execution_count": null,
      "outputs": [
        {
          "output_type": "stream",
          "name": "stdout",
          "text": [
            "Following is Breadth First Tranversal\n",
            "0 1 2 3 "
          ]
        }
      ]
    },
    {
      "cell_type": "code",
      "source": [],
      "metadata": {
        "id": "Qh8SHjCl1VkE"
      },
      "execution_count": null,
      "outputs": []
    }
  ]
}